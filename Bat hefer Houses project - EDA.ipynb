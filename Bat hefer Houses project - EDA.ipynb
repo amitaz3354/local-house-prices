{
 "cells": [
  {
   "cell_type": "code",
   "execution_count": 1,
   "metadata": {},
   "outputs": [],
   "source": [
    "import numpy as np\n",
    "import pandas as pd\n",
    "import matplotlib.pyplot as plt\n",
    "import seaborn as sns\n",
    "import re\n",
    "sns.set()"
   ]
  },
  {
   "cell_type": "markdown",
   "metadata": {},
   "source": [
    "# Data cleaning"
   ]
  },
  {
   "cell_type": "code",
   "execution_count": 2,
   "metadata": {},
   "outputs": [],
   "source": [
    "df = pd.read_csv('data.csv', \n",
    "                 na_values=['n/a'])"
   ]
  },
  {
   "cell_type": "code",
   "execution_count": 3,
   "metadata": {},
   "outputs": [
    {
     "data": {
      "text/html": [
       "<div>\n",
       "<style scoped>\n",
       "    .dataframe tbody tr th:only-of-type {\n",
       "        vertical-align: middle;\n",
       "    }\n",
       "\n",
       "    .dataframe tbody tr th {\n",
       "        vertical-align: top;\n",
       "    }\n",
       "\n",
       "    .dataframe thead th {\n",
       "        text-align: right;\n",
       "    }\n",
       "</style>\n",
       "<table border=\"1\" class=\"dataframe\">\n",
       "  <thead>\n",
       "    <tr style=\"text-align: right;\">\n",
       "      <th></th>\n",
       "      <th>date</th>\n",
       "      <th>address</th>\n",
       "      <th>house type</th>\n",
       "      <th>number of rooms</th>\n",
       "      <th>number of floors</th>\n",
       "      <th>house size</th>\n",
       "      <th>price</th>\n",
       "    </tr>\n",
       "  </thead>\n",
       "  <tbody>\n",
       "    <tr>\n",
       "      <th>0</th>\n",
       "      <td>18.07.2019</td>\n",
       "      <td>דיה 27</td>\n",
       "      <td>קוטג' דו משפחתי</td>\n",
       "      <td>6.0</td>\n",
       "      <td>קרקע+ראשונה</td>\n",
       "      <td>128.20</td>\n",
       "      <td>1,770,000</td>\n",
       "    </tr>\n",
       "    <tr>\n",
       "      <th>1</th>\n",
       "      <td>12.07.2019</td>\n",
       "      <td>גמלא 23</td>\n",
       "      <td>קוטג' טורי</td>\n",
       "      <td>4.0</td>\n",
       "      <td>קרקע ראשונה</td>\n",
       "      <td>125.71</td>\n",
       "      <td>1,625,000</td>\n",
       "    </tr>\n",
       "    <tr>\n",
       "      <th>2</th>\n",
       "      <td>10.07.2019</td>\n",
       "      <td>ביתניר 21</td>\n",
       "      <td>דירה בביתקומות</td>\n",
       "      <td>3.0</td>\n",
       "      <td>קרקע</td>\n",
       "      <td>85.60</td>\n",
       "      <td>2,655,000</td>\n",
       "    </tr>\n",
       "    <tr>\n",
       "      <th>3</th>\n",
       "      <td>30.06.2019</td>\n",
       "      <td>חיטה 50</td>\n",
       "      <td>קוטג' חד משפחתי</td>\n",
       "      <td>6.0</td>\n",
       "      <td>NaN</td>\n",
       "      <td>200.00</td>\n",
       "      <td>1,970,000</td>\n",
       "    </tr>\n",
       "    <tr>\n",
       "      <th>4</th>\n",
       "      <td>24.06.2019</td>\n",
       "      <td>חצב 56</td>\n",
       "      <td>קוטג' דו משפחתי</td>\n",
       "      <td>5.5</td>\n",
       "      <td>קרקע + ראשונה</td>\n",
       "      <td>218.30</td>\n",
       "      <td>2,600,000</td>\n",
       "    </tr>\n",
       "  </tbody>\n",
       "</table>\n",
       "</div>"
      ],
      "text/plain": [
       "         date    address       house type  number of rooms number of floors  \\\n",
       "0  18.07.2019     דיה 27  קוטג' דו משפחתי              6.0      קרקע+ראשונה   \n",
       "1  12.07.2019    גמלא 23       קוטג' טורי              4.0      קרקע ראשונה   \n",
       "2  10.07.2019  ביתניר 21   דירה בביתקומות              3.0             קרקע   \n",
       "3  30.06.2019    חיטה 50  קוטג' חד משפחתי              6.0              NaN   \n",
       "4  24.06.2019     חצב 56  קוטג' דו משפחתי              5.5    קרקע + ראשונה   \n",
       "\n",
       "   house size      price  \n",
       "0      128.20  1,770,000  \n",
       "1      125.71  1,625,000  \n",
       "2       85.60  2,655,000  \n",
       "3      200.00  1,970,000  \n",
       "4      218.30  2,600,000  "
      ]
     },
     "execution_count": 3,
     "metadata": {},
     "output_type": "execute_result"
    }
   ],
   "source": [
    "df.head()"
   ]
  },
  {
   "cell_type": "code",
   "execution_count": 4,
   "metadata": {},
   "outputs": [
    {
     "data": {
      "text/plain": [
       "date                  1\n",
       "address              38\n",
       "house type            0\n",
       "number of rooms       0\n",
       "number of floors    146\n",
       "house size            1\n",
       "price                 1\n",
       "dtype: int64"
      ]
     },
     "execution_count": 4,
     "metadata": {},
     "output_type": "execute_result"
    }
   ],
   "source": [
    "df.isnull().sum()"
   ]
  },
  {
   "cell_type": "code",
   "execution_count": 5,
   "metadata": {},
   "outputs": [
    {
     "name": "stdout",
     "output_type": "stream",
     "text": [
      "There are 33 rows with 2 or more null values\n"
     ]
    },
    {
     "data": {
      "text/plain": [
       "date                  0\n",
       "address               6\n",
       "house type            0\n",
       "number of rooms       0\n",
       "number of floors    113\n",
       "house size            0\n",
       "price                 0\n",
       "dtype: int64"
      ]
     },
     "execution_count": 5,
     "metadata": {},
     "output_type": "execute_result"
    }
   ],
   "source": [
    "counter = 0\n",
    "l = []\n",
    "for i,r in df.iterrows():\n",
    "    if df.loc[i].isnull().sum(axis=0) >= 2:\n",
    "        counter+=1\n",
    "        l.append(i)\n",
    "    \n",
    "\n",
    "print (f'There are {counter} rows with 2 or more null values')\n",
    "df.drop(l,axis=0,inplace=True)\n",
    "df.isnull().sum()"
   ]
  },
  {
   "cell_type": "code",
   "execution_count": 6,
   "metadata": {},
   "outputs": [
    {
     "name": "stdout",
     "output_type": "stream",
     "text": [
      "<class 'pandas.core.frame.DataFrame'>\n",
      "Int64Index: 372 entries, 0 to 403\n",
      "Data columns (total 7 columns):\n",
      "date                372 non-null object\n",
      "address             366 non-null object\n",
      "house type          372 non-null object\n",
      "number of rooms     372 non-null float64\n",
      "number of floors    259 non-null object\n",
      "house size          372 non-null float64\n",
      "price               372 non-null object\n",
      "dtypes: float64(2), object(5)\n",
      "memory usage: 23.2+ KB\n"
     ]
    }
   ],
   "source": [
    "df.info()"
   ]
  },
  {
   "cell_type": "code",
   "execution_count": 7,
   "metadata": {},
   "outputs": [],
   "source": [
    "df.date = pd.to_datetime(df.date)\n",
    "\n",
    "lprice = []\n",
    "\n",
    "for i in df.price:\n",
    "    i = i.replace(\",\",\"\")\n",
    "    lprice.append(i)\n",
    "\n",
    "\n",
    "df.price = lprice\n",
    "df.price = df.price.astype('float64')\n",
    "    "
   ]
  },
  {
   "cell_type": "code",
   "execution_count": 8,
   "metadata": {},
   "outputs": [
    {
     "name": "stdout",
     "output_type": "stream",
     "text": [
      "<class 'pandas.core.frame.DataFrame'>\n",
      "Int64Index: 372 entries, 0 to 403\n",
      "Data columns (total 7 columns):\n",
      "date                372 non-null datetime64[ns]\n",
      "address             366 non-null object\n",
      "house type          372 non-null object\n",
      "number of rooms     372 non-null float64\n",
      "number of floors    259 non-null object\n",
      "house size          372 non-null float64\n",
      "price               372 non-null float64\n",
      "dtypes: datetime64[ns](1), float64(3), object(3)\n",
      "memory usage: 23.2+ KB\n"
     ]
    }
   ],
   "source": [
    "df.info()"
   ]
  },
  {
   "cell_type": "code",
   "execution_count": 9,
   "metadata": {},
   "outputs": [],
   "source": [
    "df.drop(['number of floors','house type'],axis=1,inplace=True)\n",
    "df.address.fillna('missing',axis=0,inplace=True)"
   ]
  },
  {
   "cell_type": "code",
   "execution_count": 10,
   "metadata": {},
   "outputs": [
    {
     "data": {
      "text/plain": [
       "date               0\n",
       "address            0\n",
       "number of rooms    0\n",
       "house size         0\n",
       "price              0\n",
       "dtype: int64"
      ]
     },
     "execution_count": 10,
     "metadata": {},
     "output_type": "execute_result"
    }
   ],
   "source": [
    "df.isnull().sum()"
   ]
  },
  {
   "cell_type": "code",
   "execution_count": 11,
   "metadata": {},
   "outputs": [
    {
     "data": {
      "text/html": [
       "<div>\n",
       "<style scoped>\n",
       "    .dataframe tbody tr th:only-of-type {\n",
       "        vertical-align: middle;\n",
       "    }\n",
       "\n",
       "    .dataframe tbody tr th {\n",
       "        vertical-align: top;\n",
       "    }\n",
       "\n",
       "    .dataframe thead th {\n",
       "        text-align: right;\n",
       "    }\n",
       "</style>\n",
       "<table border=\"1\" class=\"dataframe\">\n",
       "  <thead>\n",
       "    <tr style=\"text-align: right;\">\n",
       "      <th></th>\n",
       "      <th>date</th>\n",
       "      <th>address</th>\n",
       "      <th>number of rooms</th>\n",
       "      <th>house size</th>\n",
       "      <th>price</th>\n",
       "    </tr>\n",
       "  </thead>\n",
       "  <tbody>\n",
       "    <tr>\n",
       "      <th>0</th>\n",
       "      <td>2019-07-18</td>\n",
       "      <td>דיה 27</td>\n",
       "      <td>6.0</td>\n",
       "      <td>128.20</td>\n",
       "      <td>1770000.0</td>\n",
       "    </tr>\n",
       "    <tr>\n",
       "      <th>1</th>\n",
       "      <td>2019-12-07</td>\n",
       "      <td>גמלא 23</td>\n",
       "      <td>4.0</td>\n",
       "      <td>125.71</td>\n",
       "      <td>1625000.0</td>\n",
       "    </tr>\n",
       "    <tr>\n",
       "      <th>2</th>\n",
       "      <td>2019-10-07</td>\n",
       "      <td>ביתניר 21</td>\n",
       "      <td>3.0</td>\n",
       "      <td>85.60</td>\n",
       "      <td>2655000.0</td>\n",
       "    </tr>\n",
       "    <tr>\n",
       "      <th>3</th>\n",
       "      <td>2019-06-30</td>\n",
       "      <td>חיטה 50</td>\n",
       "      <td>6.0</td>\n",
       "      <td>200.00</td>\n",
       "      <td>1970000.0</td>\n",
       "    </tr>\n",
       "    <tr>\n",
       "      <th>4</th>\n",
       "      <td>2019-06-24</td>\n",
       "      <td>חצב 56</td>\n",
       "      <td>5.5</td>\n",
       "      <td>218.30</td>\n",
       "      <td>2600000.0</td>\n",
       "    </tr>\n",
       "  </tbody>\n",
       "</table>\n",
       "</div>"
      ],
      "text/plain": [
       "        date    address  number of rooms  house size      price\n",
       "0 2019-07-18     דיה 27              6.0      128.20  1770000.0\n",
       "1 2019-12-07    גמלא 23              4.0      125.71  1625000.0\n",
       "2 2019-10-07  ביתניר 21              3.0       85.60  2655000.0\n",
       "3 2019-06-30    חיטה 50              6.0      200.00  1970000.0\n",
       "4 2019-06-24     חצב 56              5.5      218.30  2600000.0"
      ]
     },
     "execution_count": 11,
     "metadata": {},
     "output_type": "execute_result"
    }
   ],
   "source": [
    "df.head()"
   ]
  },
  {
   "cell_type": "code",
   "execution_count": 12,
   "metadata": {},
   "outputs": [
    {
     "data": {
      "text/html": [
       "<div>\n",
       "<style scoped>\n",
       "    .dataframe tbody tr th:only-of-type {\n",
       "        vertical-align: middle;\n",
       "    }\n",
       "\n",
       "    .dataframe tbody tr th {\n",
       "        vertical-align: top;\n",
       "    }\n",
       "\n",
       "    .dataframe thead th {\n",
       "        text-align: right;\n",
       "    }\n",
       "</style>\n",
       "<table border=\"1\" class=\"dataframe\">\n",
       "  <thead>\n",
       "    <tr style=\"text-align: right;\">\n",
       "      <th></th>\n",
       "      <th>date</th>\n",
       "      <th>address</th>\n",
       "      <th>number of rooms</th>\n",
       "      <th>house size</th>\n",
       "      <th>price</th>\n",
       "      <th>street_name</th>\n",
       "      <th>house_number</th>\n",
       "    </tr>\n",
       "  </thead>\n",
       "  <tbody>\n",
       "    <tr>\n",
       "      <th>0</th>\n",
       "      <td>2019-07-18</td>\n",
       "      <td>דיה 27</td>\n",
       "      <td>6.0</td>\n",
       "      <td>128.20</td>\n",
       "      <td>1770000.0</td>\n",
       "      <td>דיה</td>\n",
       "      <td>27</td>\n",
       "    </tr>\n",
       "    <tr>\n",
       "      <th>1</th>\n",
       "      <td>2019-12-07</td>\n",
       "      <td>גמלא 23</td>\n",
       "      <td>4.0</td>\n",
       "      <td>125.71</td>\n",
       "      <td>1625000.0</td>\n",
       "      <td>גמלא</td>\n",
       "      <td>23</td>\n",
       "    </tr>\n",
       "    <tr>\n",
       "      <th>2</th>\n",
       "      <td>2019-10-07</td>\n",
       "      <td>ביתניר 21</td>\n",
       "      <td>3.0</td>\n",
       "      <td>85.60</td>\n",
       "      <td>2655000.0</td>\n",
       "      <td>ביתניר</td>\n",
       "      <td>21</td>\n",
       "    </tr>\n",
       "    <tr>\n",
       "      <th>3</th>\n",
       "      <td>2019-06-30</td>\n",
       "      <td>חיטה 50</td>\n",
       "      <td>6.0</td>\n",
       "      <td>200.00</td>\n",
       "      <td>1970000.0</td>\n",
       "      <td>חיטה</td>\n",
       "      <td>50</td>\n",
       "    </tr>\n",
       "    <tr>\n",
       "      <th>4</th>\n",
       "      <td>2019-06-24</td>\n",
       "      <td>חצב 56</td>\n",
       "      <td>5.5</td>\n",
       "      <td>218.30</td>\n",
       "      <td>2600000.0</td>\n",
       "      <td>חצב</td>\n",
       "      <td>56</td>\n",
       "    </tr>\n",
       "  </tbody>\n",
       "</table>\n",
       "</div>"
      ],
      "text/plain": [
       "        date    address  number of rooms  house size      price street_name  \\\n",
       "0 2019-07-18     דיה 27              6.0      128.20  1770000.0         דיה   \n",
       "1 2019-12-07    גמלא 23              4.0      125.71  1625000.0        גמלא   \n",
       "2 2019-10-07  ביתניר 21              3.0       85.60  2655000.0      ביתניר   \n",
       "3 2019-06-30    חיטה 50              6.0      200.00  1970000.0        חיטה   \n",
       "4 2019-06-24     חצב 56              5.5      218.30  2600000.0         חצב   \n",
       "\n",
       "  house_number  \n",
       "0           27  \n",
       "1           23  \n",
       "2           21  \n",
       "3           50  \n",
       "4           56  "
      ]
     },
     "execution_count": 12,
     "metadata": {},
     "output_type": "execute_result"
    }
   ],
   "source": [
    "df['street_name'] = df['address'].apply(lambda x:x.split(\" \",1)[0])\n",
    "\n",
    "df['house_number'] = df['address'].apply(lambda x:x.split(\" \",1)[-1])\n",
    "\n",
    "df.head()\n"
   ]
  },
  {
   "cell_type": "code",
   "execution_count": 13,
   "metadata": {},
   "outputs": [
    {
     "data": {
      "text/html": [
       "<div>\n",
       "<style scoped>\n",
       "    .dataframe tbody tr th:only-of-type {\n",
       "        vertical-align: middle;\n",
       "    }\n",
       "\n",
       "    .dataframe tbody tr th {\n",
       "        vertical-align: top;\n",
       "    }\n",
       "\n",
       "    .dataframe thead th {\n",
       "        text-align: right;\n",
       "    }\n",
       "</style>\n",
       "<table border=\"1\" class=\"dataframe\">\n",
       "  <thead>\n",
       "    <tr style=\"text-align: right;\">\n",
       "      <th></th>\n",
       "      <th>date</th>\n",
       "      <th>address</th>\n",
       "      <th>number of rooms</th>\n",
       "      <th>house size</th>\n",
       "      <th>price</th>\n",
       "      <th>street_name</th>\n",
       "      <th>house_number</th>\n",
       "      <th>street_classifier</th>\n",
       "    </tr>\n",
       "  </thead>\n",
       "  <tbody>\n",
       "    <tr>\n",
       "      <th>0</th>\n",
       "      <td>2019-07-18</td>\n",
       "      <td>דיה 27</td>\n",
       "      <td>6.0</td>\n",
       "      <td>128.20</td>\n",
       "      <td>1770000.0</td>\n",
       "      <td>דיה</td>\n",
       "      <td>27</td>\n",
       "      <td>0</td>\n",
       "    </tr>\n",
       "    <tr>\n",
       "      <th>1</th>\n",
       "      <td>2019-12-07</td>\n",
       "      <td>גמלא 23</td>\n",
       "      <td>4.0</td>\n",
       "      <td>125.71</td>\n",
       "      <td>1625000.0</td>\n",
       "      <td>גמלא</td>\n",
       "      <td>23</td>\n",
       "      <td>0</td>\n",
       "    </tr>\n",
       "    <tr>\n",
       "      <th>2</th>\n",
       "      <td>2019-10-07</td>\n",
       "      <td>ביתניר 21</td>\n",
       "      <td>3.0</td>\n",
       "      <td>85.60</td>\n",
       "      <td>2655000.0</td>\n",
       "      <td>ביתניר</td>\n",
       "      <td>21</td>\n",
       "      <td>1</td>\n",
       "    </tr>\n",
       "    <tr>\n",
       "      <th>3</th>\n",
       "      <td>2019-06-30</td>\n",
       "      <td>חיטה 50</td>\n",
       "      <td>6.0</td>\n",
       "      <td>200.00</td>\n",
       "      <td>1970000.0</td>\n",
       "      <td>חיטה</td>\n",
       "      <td>50</td>\n",
       "      <td>0</td>\n",
       "    </tr>\n",
       "    <tr>\n",
       "      <th>4</th>\n",
       "      <td>2019-06-24</td>\n",
       "      <td>חצב 56</td>\n",
       "      <td>5.5</td>\n",
       "      <td>218.30</td>\n",
       "      <td>2600000.0</td>\n",
       "      <td>חצב</td>\n",
       "      <td>56</td>\n",
       "      <td>0</td>\n",
       "    </tr>\n",
       "  </tbody>\n",
       "</table>\n",
       "</div>"
      ],
      "text/plain": [
       "        date    address  number of rooms  house size      price street_name  \\\n",
       "0 2019-07-18     דיה 27              6.0      128.20  1770000.0         דיה   \n",
       "1 2019-12-07    גמלא 23              4.0      125.71  1625000.0        גמלא   \n",
       "2 2019-10-07  ביתניר 21              3.0       85.60  2655000.0      ביתניר   \n",
       "3 2019-06-30    חיטה 50              6.0      200.00  1970000.0        חיטה   \n",
       "4 2019-06-24     חצב 56              5.5      218.30  2600000.0         חצב   \n",
       "\n",
       "  house_number  street_classifier  \n",
       "0           27                  0  \n",
       "1           23                  0  \n",
       "2           21                  1  \n",
       "3           50                  0  \n",
       "4           56                  0  "
      ]
     },
     "execution_count": 13,
     "metadata": {},
     "output_type": "execute_result"
    }
   ],
   "source": [
    "ah = ('א','ב','ג','ד','ה')\n",
    "\n",
    "def street_classifier(data):\n",
    "    for i in data:\n",
    "        if i.startswith(ah):\n",
    "            i = 0\n",
    "        else:\n",
    "            i = 1\n",
    "    return i\n",
    "\n",
    "\n",
    "df['street_classifier'] = df['street_name'].apply(street_classifier)\n",
    "\n",
    "df.head()\n"
   ]
  },
  {
   "cell_type": "markdown",
   "metadata": {},
   "source": [
    "# EDA\n"
   ]
  },
  {
   "cell_type": "code",
   "execution_count": 14,
   "metadata": {},
   "outputs": [
    {
     "data": {
      "text/plain": [
       "<matplotlib.axes._subplots.AxesSubplot at 0x1ee4352bc50>"
      ]
     },
     "execution_count": 14,
     "metadata": {},
     "output_type": "execute_result"
    },
    {
     "data": {
      "image/png": "[encoded data removed]",
      "text/plain": [
       "<Figure size 720x216 with 1 Axes>"
      ]
     },
     "metadata": {
      "needs_background": "light"
     },
     "output_type": "display_data"
    },
    {
     "data": {
      "image/png": "[encoded data removed]",
      "text/plain": [
       "<Figure size 720x216 with 1 Axes>"
      ]
     },
     "metadata": {
      "needs_background": "light"
     },
     "output_type": "display_data"
    }
   ],
   "source": [
    "#most expensive/cheap deals\n",
    "\n",
    "exp = df.sort_values('price',ascending = False).head(5)\n",
    "che = df.sort_values('price',ascending = True).head(5)\n",
    "\n",
    "\n",
    "plt.figure(figsize=(10,3))\n",
    "plt.title('**Most expensice deals**',size=18)\n",
    "sns.barplot(x='address',y='price',data=exp)\n",
    "\n",
    "\n",
    "plt.figure(figsize=(10,3))\n",
    "plt.title('**Most cheapest deals**',size=18)\n",
    "sns.barplot(x='address',y='price',data=che)\n",
    "\n"
   ]
  },
  {
   "cell_type": "code",
   "execution_count": 15,
   "metadata": {},
   "outputs": [
    {
     "data": {
      "text/plain": [
       "<matplotlib.axes._subplots.AxesSubplot at 0x1ee4389dcf8>"
      ]
     },
     "execution_count": 15,
     "metadata": {},
     "output_type": "execute_result"
    },
    {
     "data": {
      "image/png": "[encoded data removed]",
      "text/plain": [
       "<Figure size 720x216 with 1 Axes>"
      ]
     },
     "metadata": {
      "needs_background": "light"
     },
     "output_type": "display_data"
    },
    {
     "data": {
      "image/png": "[encoded data removed]",
      "text/plain": [
       "<Figure size 720x216 with 1 Axes>"
      ]
     },
     "metadata": {
      "needs_background": "light"
     },
     "output_type": "display_data"
    }
   ],
   "source": [
    "\n",
    "\n",
    "#biggest & smallest apartments\n",
    "\n",
    "lg = df.sort_values('house size',ascending = False).head(10)\n",
    "mask = lg.address != 'missing'\n",
    "lg = lg[mask]\n",
    "\n",
    "sm = df.sort_values('house size',ascending = True).head(5)\n",
    "\n",
    "\n",
    "plt.figure(figsize=(10,3))\n",
    "plt.title('**Biggest houses**',size=18)\n",
    "sns.barplot(x='address',y='house size',data=lg)\n",
    "\n",
    "\n",
    "plt.figure(figsize=(10,3))\n",
    "plt.title('**Smallest houses**',size=18)\n",
    "sns.barplot(x='address',y='house size',data=sm)\n"
   ]
  },
  {
   "cell_type": "code",
   "execution_count": 16,
   "metadata": {},
   "outputs": [
    {
     "data": {
      "text/plain": [
       "<matplotlib.axes._subplots.AxesSubplot at 0x1ee4350b780>"
      ]
     },
     "execution_count": 16,
     "metadata": {},
     "output_type": "execute_result"
    },
    {
     "data": {
      "image/png": "[encoded data removed]",
      "text/plain": [
       "<Figure size 720x216 with 1 Axes>"
      ]
     },
     "metadata": {
      "needs_background": "light"
     },
     "output_type": "display_data"
    }
   ],
   "source": [
    "#most deals on a single apartemnt \n",
    "\n",
    "most_deals = df.address.value_counts().to_frame().head(5).reset_index()\n",
    "\n",
    "most_deals = most_deals.rename(columns = {'index':'address',\n",
    "                                         'address':'deals made'})\n",
    "\n",
    "plt.figure(figsize=(10,3))\n",
    "plt.title('**most deals on a single apartemnt**',size=18)\n",
    "sns.barplot(x='address',y='deals made',data=most_deals)\n"
   ]
  },
  {
   "cell_type": "code",
   "execution_count": 17,
   "metadata": {},
   "outputs": [
    {
     "data": {
      "text/plain": [
       "<matplotlib.axes._subplots.AxesSubplot at 0x1ee4388ecf8>"
      ]
     },
     "execution_count": 17,
     "metadata": {},
     "output_type": "execute_result"
    },
    {
     "data": {
      "image/png": "[encoded data removed]",
      "text/plain": [
       "<Figure size 720x216 with 1 Axes>"
      ]
     },
     "metadata": {
      "needs_background": "light"
     },
     "output_type": "display_data"
    }
   ],
   "source": [
    "#distribution of the most expensive/cheap areas \n",
    "exp_area = df[['street_classifier','price']]\n",
    "\n",
    "plt.figure(figsize=(10,3))\n",
    "plt.title('**most expensive/cheap areas on average**',size=18)\n",
    "sns.boxplot(x='street_classifier',y='price',data=exp_area,palette='Spectral_r')"
   ]
  },
  {
   "cell_type": "code",
   "execution_count": 18,
   "metadata": {},
   "outputs": [
    {
     "name": "stderr",
     "output_type": "stream",
     "text": [
      "C:\\Users\\Amit Aizenkot Moyal\\AppData\\Local\\Continuum\\anaconda3\\lib\\site-packages\\ipykernel_launcher.py:4: SettingWithCopyWarning: \n",
      "A value is trying to be set on a copy of a slice from a DataFrame\n",
      "\n",
      "See the caveats in the documentation: http://pandas.pydata.org/pandas-docs/stable/indexing.html#indexing-view-versus-copy\n",
      "  after removing the cwd from sys.path.\n"
     ]
    },
    {
     "data": {
      "text/plain": [
       "<matplotlib.axes._subplots.AxesSubplot at 0x1ee3c80fc88>"
      ]
     },
     "execution_count": 18,
     "metadata": {},
     "output_type": "execute_result"
    },
    {
     "data": {
      "image/png": "[encoded data removed]",
      "text/plain": [
       "<Figure size 720x216 with 1 Axes>"
      ]
     },
     "metadata": {
      "needs_background": "light"
     },
     "output_type": "display_data"
    }
   ],
   "source": [
    "#average of price by streets\n",
    "s = df[['street_name','price']]\n",
    "s.set_index(keys=['street_name'],inplace=True)\n",
    "s.sort_index(inplace=True)\n",
    "\n",
    "grouped_address_count = s.groupby(['street_name']).count()\n",
    "grouped_address_count.columns = ['count_hs']\n",
    "\n",
    "\n",
    "summed_values = s.groupby(['street_name']).sum()\n",
    "summed_values.columns = ['sum_hs']\n",
    "\n",
    "\n",
    "result = grouped_address_count.join(summed_values)\n",
    "result['Average'] = result['sum_hs']/result['count_hs']\n",
    "result = result.sort_values(by='Average',ascending = False).reset_index().head(6)\n",
    "\n",
    "\n",
    "\n",
    "plt.figure(figsize=(10,3))\n",
    "plt.title('**Average of apartemnts price**',size=18)\n",
    "sns.barplot(x='street_name',y='Average',data=result,palette='Spectral_r')"
   ]
  },
  {
   "cell_type": "code",
   "execution_count": 19,
   "metadata": {},
   "outputs": [
    {
     "data": {
      "text/plain": [
       "<matplotlib.axes._subplots.AxesSubplot at 0x1ee438c1e10>"
      ]
     },
     "execution_count": 19,
     "metadata": {},
     "output_type": "execute_result"
    },
    {
     "data": {
      "image/png": "[encoded data removed]",
      "text/plain": [
       "<Figure size 720x216 with 1 Axes>"
      ]
     },
     "metadata": {
      "needs_background": "light"
     },
     "output_type": "display_data"
    }
   ],
   "source": [
    "#distribution of the apartemnts size by areas\n",
    "exp_area = df[['street_classifier','house size']]\n",
    "\n",
    "plt.figure(figsize=(10,3))\n",
    "plt.title('**Average of apartemnts size**',size=18)\n",
    "sns.boxplot(x='street_classifier',y='house size',data=exp_area,palette='Spectral_r')"
   ]
  },
  {
   "cell_type": "code",
   "execution_count": 20,
   "metadata": {},
   "outputs": [
    {
     "data": {
      "text/plain": [
       "<matplotlib.axes._subplots.AxesSubplot at 0x1ee438c3cc0>"
      ]
     },
     "execution_count": 20,
     "metadata": {},
     "output_type": "execute_result"
    },
    {
     "data": {
      "image/png": "[encoded data removed]",
      "text/plain": [
       "<Figure size 720x216 with 1 Axes>"
      ]
     },
     "metadata": {
      "needs_background": "light"
     },
     "output_type": "display_data"
    }
   ],
   "source": [
    "#average of apartemnts size by streets\n",
    "s = df[['street_name','house size']]\n",
    "\n",
    "grouped_address_count = s.groupby(['street_name']).count()\n",
    "grouped_address_count.columns = ['count_hs']\n",
    "\n",
    "\n",
    "summed_values = s.groupby(['street_name']).sum()\n",
    "summed_values.columns = ['sum_hs']\n",
    "\n",
    "\n",
    "result = grouped_address_count.join(summed_values)\n",
    "result['Average'] = result['sum_hs']/result['count_hs']\n",
    "result = result.sort_values(by='Average',ascending = False).reset_index().head(6)\n",
    "\n",
    "\n",
    "\n",
    "plt.figure(figsize=(10,3))\n",
    "plt.title('**Average of apartemnts size**',size=18)\n",
    "sns.barplot(x='street_name',y='Average',data=result,palette='Spectral_r')"
   ]
  }
 ],
 "metadata": {
  "kernelspec": {
   "display_name": "Python 3",
   "language": "python",
   "name": "python3"
  },
  "language_info": {
   "codemirror_mode": {
    "name": "ipython",
    "version": 3
   },
   "file_extension": ".py",
   "mimetype": "text/x-python",
   "name": "python",
   "nbconvert_exporter": "python",
   "pygments_lexer": "ipython3",
   "version": "3.6.7"
  }
 },
 "nbformat": 4,
 "nbformat_minor": 2
}
